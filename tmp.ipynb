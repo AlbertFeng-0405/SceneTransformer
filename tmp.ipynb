{
 "cells": [
  {
   "cell_type": "code",
   "execution_count": 2,
   "source": [
    "import torch\n",
    "from torch.utils.data import DataLoader\n",
    "\n",
    "from datautil.waymo_dataset import WaymoDataset, waymo_collate_fn\n",
    "\n",
    "dataset = WaymoDataset('data')\n",
    "dataloader = DataLoader(dataset, batch_size=4, collate_fn=lambda x: waymo_collate_fn(x), shuffle=False)\n",
    "\n",
    "data0 = next(iter(dataloader))"
   ],
   "outputs": [],
   "metadata": {}
  },
  {
   "cell_type": "code",
   "execution_count": 17,
   "source": [
    "import torch\n",
    "import torch.nn as nn\n",
    "from model.utils import *\n",
    "\n",
    "state_feat, agent_batch_mask, road_feat, traffic_light_feat = data0\n",
    "\n",
    "in_feat_dim = 9\n",
    "feature_dim = 256\n",
    "in_dynamic_rg_dim = 3\n",
    "time_steps = 91\n",
    "head_num = 4\n",
    "\n",
    "layer_A = nn.Sequential(nn.Linear(in_feat_dim,feature_dim), Permute4Batchnorm((0,2,1)),\n",
    "                            nn.BatchNorm1d(feature_dim), Permute4Batchnorm((0,2,1)))\n",
    "\n",
    "layer_B = nn.Sequential(nn.Linear(in_dynamic_rg_dim,feature_dim), Permute4Batchnorm((0,2,1)),\n",
    "                            nn.BatchNorm1d(feature_dim), Permute4Batchnorm((0,2,1)))\n",
    "\n",
    "\n",
    "A_ = layer_A(state_feat)\n",
    "B_ = layer_B(traffic_light_feat)"
   ],
   "outputs": [],
   "metadata": {}
  },
  {
   "cell_type": "code",
   "execution_count": 18,
   "source": [
    "viewmodule_ = View((-1,time_steps,head_num, int(feature_dim/head_num)))\n",
    "layer_K_ = nn.Sequential(nn.Linear(feature_dim,feature_dim), nn.ReLU(), viewmodule_)"
   ],
   "outputs": [],
   "metadata": {}
  },
  {
   "cell_type": "code",
   "execution_count": 22,
   "source": [
    "print(A_.shape)\n",
    "layer_K_(A_).shape"
   ],
   "outputs": [
    {
     "output_type": "stream",
     "name": "stdout",
     "text": [
      "torch.Size([175, 91, 256])\n"
     ]
    },
    {
     "output_type": "execute_result",
     "data": {
      "text/plain": [
       "torch.Size([175, 91, 4, 64])"
      ]
     },
     "metadata": {},
     "execution_count": 22
    }
   ],
   "metadata": {}
  }
 ],
 "metadata": {
  "orig_nbformat": 4,
  "language_info": {
   "name": "python",
   "version": "3.7.10",
   "mimetype": "text/x-python",
   "codemirror_mode": {
    "name": "ipython",
    "version": 3
   },
   "pygments_lexer": "ipython3",
   "nbconvert_exporter": "python",
   "file_extension": ".py"
  },
  "kernelspec": {
   "name": "python3",
   "display_name": "Python 3.7.10 64-bit ('base': conda)"
  },
  "interpreter": {
   "hash": "97a78a4e4847bcd3012bc38194af59d45dfe518ac95abf5f0758243f1884d290"
  }
 },
 "nbformat": 4,
 "nbformat_minor": 2
}