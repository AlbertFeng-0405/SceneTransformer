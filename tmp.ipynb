{
 "cells": [
  {
   "cell_type": "markdown",
   "source": [
    "import torch\n",
    "from torch.utils.data import DataLoader\n",
    "\n",
    "from datautil.waymo_dataset import WaymoDataset, waymo_collate_fn\n",
    "\n",
    "dataset = WaymoDataset('data')\n",
    "dataloader = DataLoader(dataset, batch_size=4, collate_fn=lambda x: waymo_collate_fn(x), shuffle=False)\n",
    "\n",
    "data0 = next(iter(dataloader))"
   ],
   "metadata": {}
  },
  {
   "cell_type": "code",
   "execution_count": 11,
   "source": [
    "import torch\n",
    "import torch.nn as nn\n",
    "import torch.nn.functional as FU\n",
    "\n",
    "from model.utils import *\n",
    "\n",
    "from collections import OrderedDict\n",
    "\n",
    "A = 128\n",
    "B = 64\n",
    "T = 91\n",
    "D = 256\n",
    "F = 6\n",
    "H = 4\n",
    "K = 7\n",
    "\n",
    "Q_ = torch.rand((A,T,D))\n",
    "R_ = Q_.unsqueeze(0).repeat(F,1,1,1)\n",
    "\n",
    "onehots_ = torch.tensor(range(F))\n",
    "onehots_ = FU.one_hot(onehots_, num_classes=F)\n",
    "onehots_ = onehots_.view(F,1,1,F).repeat(1,A,T,1)\n",
    "S_ = torch.cat((R_,onehots_),dim=-1)\n",
    "\n",
    "layer_T = nn.Sequential(nn.Linear(D+F,D), nn.ReLU(), Permute4Batchnorm((0,3,1,2)),\n",
    "                            nn.BatchNorm2d(D), Permute4Batchnorm((0,2,3,1)))\n",
    "T_ = layer_T(S_)"
   ],
   "outputs": [],
   "metadata": {}
  },
  {
   "cell_type": "code",
   "execution_count": 3,
   "source": [
    "print(T_.shape)\n",
    "print(T_.reshape(-1,T,D).shape)"
   ],
   "outputs": [
    {
     "output_type": "stream",
     "name": "stdout",
     "text": [
      "torch.Size([6, 128, 91, 256])\n",
      "torch.Size([768, 91, 256])\n"
     ]
    }
   ],
   "metadata": {}
  },
  {
   "cell_type": "code",
   "execution_count": 4,
   "source": [
    "layer_U = nn.TransformerEncoderLayer(D,H,dim_feedforward=D)\n",
    "\n",
    "# src_mask = \n",
    "U_ = layer_U(T_.reshape(-1,T,D))"
   ],
   "outputs": [],
   "metadata": {}
  },
  {
   "cell_type": "code",
   "execution_count": 16,
   "source": [
    "layer__ = nn.MultiheadAttention(embed_dim=D,num_heads=H)\n",
    "\n",
    "padding_mask = torch.rand((A,T))\n",
    "agent_mask = torch.rand((A,A))\n",
    "\n",
    "print(T_.shape)\n",
    "\n",
    "# across time\n",
    "q = T_.reshape((-1,T,D)).permute(1,0,2)     # [L,N,E] = [T,A*F,D] = [91,768,256]\n",
    "k, v = q.clone(), q.clone()                 # [S,N,E] = [T,A*F,D]\n",
    "\n",
    "key_padding_mask = padding_mask.repeat(F,1) # [N,S] = [A*F,T]\n",
    "attn_mask = None                 \n",
    "\n",
    "att_output, _ = layer__(q,k,v,key_padding_mask=key_padding_mask,attn_mask=attn_mask)\n",
    "\n",
    "# across agent\n",
    "q = T_.reshape((-1,A,D)).permute(1,0,2)     # [L,N,E] = [A,T*F,D] = [546,128,256]\n",
    "k, v = q.clone(), q.clone()                 # [S,N,E] = [A,T*F,D]\n",
    "\n",
    "key_padding_mask = padding_mask.permute(1,0).repeat(F,1) # [N,S] = [T*F,A]\n",
    "attn_mask = agent_mask                      # [L,S] = [A,A]"
   ],
   "outputs": [
    {
     "output_type": "stream",
     "name": "stdout",
     "text": [
      "torch.Size([6, 128, 91, 256])\n",
      "torch.Size([546, 128])\n"
     ]
    }
   ],
   "metadata": {}
  },
  {
   "cell_type": "code",
   "execution_count": null,
   "source": [],
   "outputs": [],
   "metadata": {}
  }
 ],
 "metadata": {
  "orig_nbformat": 4,
  "language_info": {
   "name": "python",
   "version": "3.7.10",
   "mimetype": "text/x-python",
   "codemirror_mode": {
    "name": "ipython",
    "version": 3
   },
   "pygments_lexer": "ipython3",
   "nbconvert_exporter": "python",
   "file_extension": ".py"
  },
  "kernelspec": {
   "name": "python3",
   "display_name": "Python 3.7.10 64-bit ('base': conda)"
  },
  "interpreter": {
   "hash": "97a78a4e4847bcd3012bc38194af59d45dfe518ac95abf5f0758243f1884d290"
  }
 },
 "nbformat": 4,
 "nbformat_minor": 2
}